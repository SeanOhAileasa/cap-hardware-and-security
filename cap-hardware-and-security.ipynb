{
 "cells": [
  {
   "cell_type": "markdown",
   "id": "d4ee9e4b",
   "metadata": {},
   "source": [
    "***\n",
    "< [Home](https://github.com/SeanOhAileasa) | [README](https://github.com/SeanOhAileasa/cap-hardware-and-security/blob/main/README.md) >\n",
    "\n",
    "## CompTIA Cybersecurity Analyst (CySA+) - Course Material 2022\n",
    "###### Topic: ``Hardware and Security``\n",
    "***"
   ]
  },
  {
   "cell_type": "markdown",
   "id": "b82b07fb",
   "metadata": {},
   "source": [
    "Course material for the ``CompTIA Cybersecurity Analyst (CySA+)`` module of the ``ICT Associate Apprenticeship (Cybersecurity)`` programme."
   ]
  },
  {
   "cell_type": "markdown",
   "id": "e7228f57",
   "metadata": {},
   "source": [
    "<a id=\"top\"></a>\n",
    "***\n",
    "## Table of Contents\n",
    "***"
   ]
  },
  {
   "cell_type": "markdown",
   "id": "c2bb5e7b",
   "metadata": {},
   "source": [
    "### [Hardware and Security](#HardwareandSecurity) <br/><br/>\n",
    "<hr width=50%;>"
   ]
  },
  {
   "cell_type": "markdown",
   "id": "2084286d",
   "metadata": {},
   "source": [
    "### [Mobile Device Security](#MobileDeviceSecurity) <br/><br/>\n",
    "<hr width=50%;>"
   ]
  },
  {
   "cell_type": "markdown",
   "id": "8c680b78",
   "metadata": {},
   "source": [
    "### [IoT Security](#IoTSecurity) <br/><br/>\n",
    "<hr width=50%;>"
   ]
  },
  {
   "cell_type": "markdown",
   "id": "561f5902",
   "metadata": {},
   "source": [
    "### [Vulnerable Device Lists](#VulnerableDeviceLists) <br/><br/>\n",
    "<hr width=50%;>"
   ]
  },
  {
   "cell_type": "markdown",
   "id": "a2fd3ec1",
   "metadata": {},
   "source": [
    "### [Physical Security](#PhysicalSecurity) <br/><br/>\n",
    "<hr width=50%;>"
   ]
  },
  {
   "cell_type": "markdown",
   "id": "056e014a",
   "metadata": {},
   "source": [
    "### [Drones and Vehicles](#DronesandVehicles) <br/><br/>\n",
    "<hr width=50%;>"
   ]
  },
  {
   "cell_type": "markdown",
   "id": "46b36370",
   "metadata": {},
   "source": [
    "### [SCADA](#SCADA) <br/><br/>\n",
    "<hr width=50%;>"
   ]
  },
  {
   "cell_type": "markdown",
   "id": "7f44c754",
   "metadata": {},
   "source": [
    "### [BIOS and UEFI](#BIOSandUEFI) <br/><br/>\n",
    "<hr width=50%;>"
   ]
  },
  {
   "cell_type": "markdown",
   "id": "3b17fded",
   "metadata": {},
   "source": [
    "### [Self Encrypting Drives](#SelfEncryptingDrives) <br/><br/>\n",
    "<hr width=50%;>"
   ]
  },
  {
   "cell_type": "markdown",
   "id": "174d3b1d",
   "metadata": {},
   "source": [
    "### [Hardware Security Module](#HardwareSecurityModule) <br/><br/>\n",
    "<hr width=50%;>"
   ]
  },
  {
   "cell_type": "markdown",
   "id": "de1f39e6",
   "metadata": {},
   "source": [
    "### [Course Summary](#CourseSummary) <br/><br/>\n",
    "<hr width=50%;>"
   ]
  },
  {
   "cell_type": "markdown",
   "id": "bf2b95e2",
   "metadata": {},
   "source": [
    "***\n",
    "## END"
   ]
  },
  {
   "cell_type": "markdown",
   "id": "34aa6eb5",
   "metadata": {},
   "source": [
    "< [Table of Contents](#top) | [References](#references) >\n",
    "<a id=\"HardwareandSecurity\"></a>\n",
    "***\n",
    "### Hardware and Security\n",
    "***"
   ]
  },
  {
   "cell_type": "markdown",
   "id": "079bd8d2",
   "metadata": {},
   "source": [
    "Securing hardware includes applying firmware updates and configuring devices on isolated networks. In this course, you'll learn about mobile device security, IoT security, and vulnerable device lists. You'll explore physical security and the security risks presented by drones and vehicles. You'll move on to examine how SCADA is used for industrial device networks, how to recognize BIOS and UEFI security settings, how self encrypting drives can protect data at rest, and how hardware security modules are used for encryption offloading and cryptographic secret storage. This course can be used in preparation for the CompTIA Cybersecurity Analyst (CySA+) certification exam CS0-002."
   ]
  },
  {
   "cell_type": "markdown",
   "id": "173e78b5",
   "metadata": {},
   "source": [
    "Objectives\n",
    "\n",
    "- discover the key concepts covered in this course <br/><br/>\n",
    "- recognize how mobile device weaknesses should be addressed <br/><br/>\n",
    "- recognize how IoT device weaknesses should be addressed <br/><br/>\n",
    "- access and navigate the shodan.io web site <br/><br/>\n",
    "- list how to physically secure facilities and computing equipment <br/><br/>\n",
    "- describe how vehicles such as drones can present security risks <br/><br/>\n",
    "- recognize how SCADA is used for industrial device networks <br/><br/>\n",
    "- recognize BIOS and UEFI security settings <br/><br/>\n",
    "- recognize how SEDs provide protection for data at rest <br/><br/>\n",
    "- recognize how HSMs are used for encryption offloading and the storage of cryptographic secrets <br/><br/>\n",
    "- summarize the key concepts covered in this course <br/><br/>"
   ]
  },
  {
   "cell_type": "markdown",
   "id": "84b00380",
   "metadata": {},
   "source": [
    "< [Table of Contents](#top) | [References](#references) >\n",
    "<a id=\"MobileDeviceSecurity\"></a>\n",
    "***\n",
    "### Mobile Device Security\n",
    "***"
   ]
  },
  {
   "cell_type": "markdown",
   "id": "d82d85d7",
   "metadata": {},
   "source": []
  },
  {
   "cell_type": "markdown",
   "id": "b4da2efe",
   "metadata": {},
   "source": [
    "< [Table of Contents](#top) | [References](#references) >\n",
    "<a id=\"IoTSecurity\"></a>\n",
    "***\n",
    "### IoT Security\n",
    "***"
   ]
  },
  {
   "cell_type": "markdown",
   "id": "70f6e846",
   "metadata": {},
   "source": []
  },
  {
   "cell_type": "markdown",
   "id": "7b10c3a2",
   "metadata": {},
   "source": [
    "< [Table of Contents](#top) | [References](#references) >\n",
    "<a id=\"VulnerableDeviceLists\"></a>\n",
    "***\n",
    "### Vulnerable Device Lists\n",
    "***"
   ]
  },
  {
   "cell_type": "markdown",
   "id": "2cc18496",
   "metadata": {},
   "source": []
  },
  {
   "cell_type": "markdown",
   "id": "1ce9ff85",
   "metadata": {},
   "source": [
    "< [Table of Contents](#top) | [References](#references) >\n",
    "<a id=\"PhysicalSecurity\"></a>\n",
    "***\n",
    "### Physical Security\n",
    "***"
   ]
  },
  {
   "cell_type": "markdown",
   "id": "8bb9c616",
   "metadata": {},
   "source": []
  },
  {
   "cell_type": "markdown",
   "id": "d87809fd",
   "metadata": {},
   "source": [
    "< [Table of Contents](#top) | [References](#references) >\n",
    "<a id=\"DronesandVehicles\"></a>\n",
    "***\n",
    "### Drones and Vehicles\n",
    "***"
   ]
  },
  {
   "cell_type": "markdown",
   "id": "f0a909b6",
   "metadata": {},
   "source": []
  },
  {
   "cell_type": "markdown",
   "id": "c781a700",
   "metadata": {},
   "source": [
    "< [Table of Contents](#top) | [References](#references) >\n",
    "<a id=\"SCADA\"></a>\n",
    "***\n",
    "### SCADA\n",
    "***"
   ]
  },
  {
   "cell_type": "markdown",
   "id": "cd41c08d",
   "metadata": {},
   "source": []
  },
  {
   "cell_type": "markdown",
   "id": "1256d7bf",
   "metadata": {},
   "source": [
    "< [Table of Contents](#top) | [References](#references) >\n",
    "<a id=\"BIOSandUEFI\"></a>\n",
    "***\n",
    "### BIOS and UEFI\n",
    "***"
   ]
  },
  {
   "cell_type": "markdown",
   "id": "3ab13be8",
   "metadata": {},
   "source": []
  },
  {
   "cell_type": "markdown",
   "id": "47707114",
   "metadata": {},
   "source": [
    "< [Table of Contents](#top) | [References](#references) >\n",
    "<a id=\"SelfEncryptingDrives\"></a>\n",
    "***\n",
    "### Self Encrypting Drives\n",
    "***"
   ]
  },
  {
   "cell_type": "markdown",
   "id": "5c5eb4ce",
   "metadata": {},
   "source": []
  },
  {
   "cell_type": "markdown",
   "id": "9adeceaf",
   "metadata": {},
   "source": [
    "< [Table of Contents](#top) | [References](#references) >\n",
    "<a id=\"HardwareSecurityModule\"></a>\n",
    "***\n",
    "### Hardware Security Module\n",
    "***"
   ]
  },
  {
   "cell_type": "markdown",
   "id": "45d2f914",
   "metadata": {},
   "source": []
  },
  {
   "cell_type": "markdown",
   "id": "fd680b58",
   "metadata": {},
   "source": [
    "< [Table of Contents](#top) | [References](#references) >\n",
    "<a id=\"CourseSummary\"></a>\n",
    "***\n",
    "### Course Summary\n",
    "***"
   ]
  },
  {
   "cell_type": "markdown",
   "id": "86a67316",
   "metadata": {},
   "source": []
  },
  {
   "cell_type": "markdown",
   "id": "2cc20932",
   "metadata": {},
   "source": [
    "***\n",
    "## END"
   ]
  },
  {
   "cell_type": "markdown",
   "id": "e0e42d51",
   "metadata": {},
   "source": [
    "< [Table of Contents](#top) >\n",
    "<a id=\"references\"></a>\n",
    "***\n",
    "## References\n",
    "***"
   ]
  },
  {
   "cell_type": "markdown",
   "id": "757bf6de",
   "metadata": {},
   "source": [
    "&nbsp;&nbsp;&nbsp;&nbsp;&nbsp;&nbsp;&nbsp;&nbsp;&nbsp;skillsoft, \"Hardware and Security,\" [skillsoft.com](https://web.archive.org/web/20220403100053/https://www.skillsoft.com/), n.d.."
   ]
  },
  {
   "cell_type": "markdown",
   "id": "b33c372a",
   "metadata": {},
   "source": [
    "***\n",
    "## END"
   ]
  },
  {
   "cell_type": "markdown",
   "id": "e5961b4d",
   "metadata": {},
   "source": [
    "< [Table of Contents](#top) | [References](#references) >\n",
    "<a id=\"appendix\"></a>\n",
    "***\n",
    "## Appendix\n",
    "***"
   ]
  },
  {
   "cell_type": "markdown",
   "id": "00d82a82",
   "metadata": {},
   "source": [
    "***\n",
    "## END"
   ]
  },
  {
   "cell_type": "code",
   "execution_count": 1,
   "id": "706756a2",
   "metadata": {},
   "outputs": [
    {
     "data": {
      "text/html": [
       "<style>.container { width:100% !important; }</style>"
      ],
      "text/plain": [
       "<IPython.core.display.HTML object>"
      ]
     },
     "metadata": {},
     "output_type": "display_data"
    }
   ],
   "source": [
    "from IPython.core.display import display,HTML\n",
    "display(HTML(\"<style>.container { width:100% !important; }</style>\"))"
   ]
  },
  {
   "cell_type": "markdown",
   "id": "899c1783",
   "metadata": {},
   "source": [
    "# END JUPYTER NOTEBOOK"
   ]
  }
 ],
 "metadata": {
  "kernelspec": {
   "display_name": "Python 3",
   "language": "python",
   "name": "python3"
  },
  "language_info": {
   "codemirror_mode": {
    "name": "ipython",
    "version": 3
   },
   "file_extension": ".py",
   "mimetype": "text/x-python",
   "name": "python",
   "nbconvert_exporter": "python",
   "pygments_lexer": "ipython3",
   "version": "3.8.8"
  }
 },
 "nbformat": 4,
 "nbformat_minor": 5
}
